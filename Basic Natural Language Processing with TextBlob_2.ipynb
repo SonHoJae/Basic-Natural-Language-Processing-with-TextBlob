{
 "cells": [
  {
   "cell_type": "code",
   "execution_count": 4,
   "metadata": {},
   "outputs": [],
   "source": [
    "from textblob import TextBlob"
   ]
  },
  {
   "cell_type": "code",
   "execution_count": 8,
   "metadata": {},
   "outputs": [
    {
     "name": "stdout",
     "output_type": "stream",
     "text": [
      "In the wild, strange plants with peculiar properties can be found. One of these\n",
      "plants is the phosphorescent moss. The moss covers the walls inside some of\n",
      "Arda's humid caves. It is believed that the light emitted from the moss comes\n",
      "from a fungus, which lives in symbiosis with the moss. This moss can be used to\n",
      "prepare a draught which gives an enhanced ability to see in the night.\n",
      "\n",
      "The base of this concoction is the brown powder of a cinnamon stalk. To it, add\n",
      "a handful of rosemary leaves, these make the mind more attentive.\n",
      "\n",
      "Add shreds of humidified phosphorescent moss to the dry concoction, and\n",
      "carefully mix them together, until you have a phosphorescent liquid which\n",
      "emanates a pale light.\n",
      "\n",
      "When consuming it, you will be able to perceive your environment more\n",
      "effectively, especially in the darkness, thanks to the moss. A side effect of\n",
      "its activity is to weaken you for a while, as it draws energy from your body.\n",
      "The effects can be felt for several days.\n",
      "As you finish reading it, a runic book crumbles to dust.\n"
     ]
    },
    {
     "data": {
      "text/plain": [
       "0.11822222222222223"
      ]
     },
     "execution_count": 8,
     "metadata": {},
     "output_type": "execute_result"
    }
   ],
   "source": [
    "text = open('book.txt')\n",
    "text = text.read()\n",
    "blob = TextBlob(text)\n",
    "print(blob)\n",
    "blob.polarity # meaning slitely positive"
   ]
  },
  {
   "cell_type": "code",
   "execution_count": 11,
   "metadata": {},
   "outputs": [
    {
     "name": "stdout",
     "output_type": "stream",
     "text": [
      "It is believed that the light emitted from the moss comes\n",
      "from a fungus, which lives in symbiosis with the moss.\n",
      "To it, add\n",
      "a handful of rosemary leaves, these make the mind more attentive.\n"
     ]
    }
   ],
   "source": [
    "for s in blob.sentences:\n",
    "    if s.polarity > 0.3:\n",
    "        print(s)"
   ]
  },
  {
   "cell_type": "code",
   "execution_count": 12,
   "metadata": {},
   "outputs": [
    {
     "name": "stdout",
     "output_type": "stream",
     "text": [
      "The base of this concoction is the brown powder of a cinnamon stalk.\n"
     ]
    }
   ],
   "source": [
    "for s in blob.sentences:\n",
    "    if s.polarity < -0.3:\n",
    "        print(s)"
   ]
  },
  {
   "cell_type": "code",
   "execution_count": 18,
   "metadata": {},
   "outputs": [
    {
     "name": "stdout",
     "output_type": "stream",
     "text": [
      "Sentiment(polarity=0.11822222222222223, subjectivity=0.5636666666666665)\n",
      "<class 'textblob.en.sentiments.Sentiment'>\n",
      "[0.11822222222222223, 0.5636666666666665]\n"
     ]
    }
   ],
   "source": [
    "print(blob.sentiment)\n",
    "print(type(blob.sentiment))\n",
    "b = list(blob.sentiment)\n",
    "print(b)"
   ]
  },
  {
   "cell_type": "code",
   "execution_count": 27,
   "metadata": {},
   "outputs": [
    {
     "name": "stdout",
     "output_type": "stream",
     "text": [
      "0.6\n",
      "0.0\n"
     ]
    }
   ],
   "source": [
    "blob = TextBlob(\"I love you so\")\n",
    "print(blob.subjectivity)\n",
    "blob = TextBlob(\"I know you so\")\n",
    "print(blob.subjectivity)"
   ]
  },
  {
   "cell_type": "code",
   "execution_count": 34,
   "metadata": {},
   "outputs": [
    {
     "name": "stdout",
     "output_type": "stream",
     "text": [
      "야생에서는 특이한 특성을 지닌 이상한 식물을 발견 할 수 있습니다. 이 중 하나\n",
      "식물은 축광 이끼입니다. 이끼가 벽의 일부를 덮고 있습니다.\n",
      "Arda의 습한 동굴. 이끼에서 방출되는 빛은\n",
      "이끼와 공생하여 살고있는 곰팡이로부터. 이 이끼는\n",
      "밤에 볼 수있는 능력을 향상시키는 초안을 준비하십시오.\n",
      "\n",
      "이 혼합물의 기초는 계피 가루의 갈색 분말입니다. 여기에\n",
      "몇 가지 로즈마리 잎은 마음을 더 세 심하게 만듭니다.\n",
      "\n",
      "가습 된 축광 이끼의 파편을 건조한 혼합물에 첨가하고\n",
      "당신이 인광 성 액체를 가질 때까지 조심스럽게 함께 섞어 라.\n",
      "창백한 빛을 발산한다.\n",
      "\n",
      "그것을 소비 할 때, 당신은 당신의 환경을 더 많이 인식 할 수있을 것입니다.\n",
      "효과적으로, 특히 어둠 속에서, 이끼 덕분에. 부작용\n",
      "그것의 활동은 당신의 몸에서 에너지를 끌어 오는 것처럼 잠시 동안 당신을 약화시키는 것입니다.\n",
      "몇 일 동안 효과를 느낄 수 있습니다.\n",
      "당신이 그것을 읽는 것을 끝내면, 룬 문자 책은 먼지로 부서집니다.\n"
     ]
    }
   ],
   "source": [
    "text = open('book.txt')\n",
    "text = text.read()\n",
    "blob = TextBlob(text)\n",
    "print(blob.translate(to='ko'))"
   ]
  },
  {
   "cell_type": "code",
   "execution_count": 36,
   "metadata": {},
   "outputs": [
    {
     "data": {
      "text/plain": [
       "[WordList(['This', 'is', 'a']),\n",
       " WordList(['is', 'a', 'sentence']),\n",
       " WordList(['a', 'sentence', 'of']),\n",
       " WordList(['sentence', 'of', 'seven']),\n",
       " WordList(['of', 'seven', 'words'])]"
      ]
     },
     "execution_count": 36,
     "metadata": {},
     "output_type": "execute_result"
    }
   ],
   "source": [
    "s = \" This is a sentence of seven words\"\n",
    "s = TextBlob(s)\n",
    "s.ngrams(n=3)"
   ]
  },
  {
   "cell_type": "code",
   "execution_count": 38,
   "metadata": {},
   "outputs": [
    {
     "data": {
      "text/plain": [
       "[WordList(['In', 'the', 'wild', 'strange', 'plants']),\n",
       " WordList(['the', 'wild', 'strange', 'plants', 'with']),\n",
       " WordList(['wild', 'strange', 'plants', 'with', 'peculiar']),\n",
       " WordList(['strange', 'plants', 'with', 'peculiar', 'properties']),\n",
       " WordList(['plants', 'with', 'peculiar', 'properties', 'can']),\n",
       " WordList(['with', 'peculiar', 'properties', 'can', 'be']),\n",
       " WordList(['peculiar', 'properties', 'can', 'be', 'found']),\n",
       " WordList(['properties', 'can', 'be', 'found', 'One']),\n",
       " WordList(['can', 'be', 'found', 'One', 'of']),\n",
       " WordList(['be', 'found', 'One', 'of', 'these']),\n",
       " WordList(['found', 'One', 'of', 'these', 'plants']),\n",
       " WordList(['One', 'of', 'these', 'plants', 'is']),\n",
       " WordList(['of', 'these', 'plants', 'is', 'the']),\n",
       " WordList(['these', 'plants', 'is', 'the', 'phosphorescent']),\n",
       " WordList(['plants', 'is', 'the', 'phosphorescent', 'moss']),\n",
       " WordList(['is', 'the', 'phosphorescent', 'moss', 'The']),\n",
       " WordList(['the', 'phosphorescent', 'moss', 'The', 'moss']),\n",
       " WordList(['phosphorescent', 'moss', 'The', 'moss', 'covers']),\n",
       " WordList(['moss', 'The', 'moss', 'covers', 'the']),\n",
       " WordList(['The', 'moss', 'covers', 'the', 'walls']),\n",
       " WordList(['moss', 'covers', 'the', 'walls', 'inside']),\n",
       " WordList(['covers', 'the', 'walls', 'inside', 'some']),\n",
       " WordList(['the', 'walls', 'inside', 'some', 'of']),\n",
       " WordList(['walls', 'inside', 'some', 'of', 'Arda']),\n",
       " WordList(['inside', 'some', 'of', 'Arda', \"'s\"]),\n",
       " WordList(['some', 'of', 'Arda', \"'s\", 'humid']),\n",
       " WordList(['of', 'Arda', \"'s\", 'humid', 'caves']),\n",
       " WordList(['Arda', \"'s\", 'humid', 'caves', 'It']),\n",
       " WordList([\"'s\", 'humid', 'caves', 'It', 'is']),\n",
       " WordList(['humid', 'caves', 'It', 'is', 'believed']),\n",
       " WordList(['caves', 'It', 'is', 'believed', 'that']),\n",
       " WordList(['It', 'is', 'believed', 'that', 'the']),\n",
       " WordList(['is', 'believed', 'that', 'the', 'light']),\n",
       " WordList(['believed', 'that', 'the', 'light', 'emitted']),\n",
       " WordList(['that', 'the', 'light', 'emitted', 'from']),\n",
       " WordList(['the', 'light', 'emitted', 'from', 'the']),\n",
       " WordList(['light', 'emitted', 'from', 'the', 'moss']),\n",
       " WordList(['emitted', 'from', 'the', 'moss', 'comes']),\n",
       " WordList(['from', 'the', 'moss', 'comes', 'from']),\n",
       " WordList(['the', 'moss', 'comes', 'from', 'a']),\n",
       " WordList(['moss', 'comes', 'from', 'a', 'fungus']),\n",
       " WordList(['comes', 'from', 'a', 'fungus', 'which']),\n",
       " WordList(['from', 'a', 'fungus', 'which', 'lives']),\n",
       " WordList(['a', 'fungus', 'which', 'lives', 'in']),\n",
       " WordList(['fungus', 'which', 'lives', 'in', 'symbiosis']),\n",
       " WordList(['which', 'lives', 'in', 'symbiosis', 'with']),\n",
       " WordList(['lives', 'in', 'symbiosis', 'with', 'the']),\n",
       " WordList(['in', 'symbiosis', 'with', 'the', 'moss']),\n",
       " WordList(['symbiosis', 'with', 'the', 'moss', 'This']),\n",
       " WordList(['with', 'the', 'moss', 'This', 'moss']),\n",
       " WordList(['the', 'moss', 'This', 'moss', 'can']),\n",
       " WordList(['moss', 'This', 'moss', 'can', 'be']),\n",
       " WordList(['This', 'moss', 'can', 'be', 'used']),\n",
       " WordList(['moss', 'can', 'be', 'used', 'to']),\n",
       " WordList(['can', 'be', 'used', 'to', 'prepare']),\n",
       " WordList(['be', 'used', 'to', 'prepare', 'a']),\n",
       " WordList(['used', 'to', 'prepare', 'a', 'draught']),\n",
       " WordList(['to', 'prepare', 'a', 'draught', 'which']),\n",
       " WordList(['prepare', 'a', 'draught', 'which', 'gives']),\n",
       " WordList(['a', 'draught', 'which', 'gives', 'an']),\n",
       " WordList(['draught', 'which', 'gives', 'an', 'enhanced']),\n",
       " WordList(['which', 'gives', 'an', 'enhanced', 'ability']),\n",
       " WordList(['gives', 'an', 'enhanced', 'ability', 'to']),\n",
       " WordList(['an', 'enhanced', 'ability', 'to', 'see']),\n",
       " WordList(['enhanced', 'ability', 'to', 'see', 'in']),\n",
       " WordList(['ability', 'to', 'see', 'in', 'the']),\n",
       " WordList(['to', 'see', 'in', 'the', 'night']),\n",
       " WordList(['see', 'in', 'the', 'night', 'The']),\n",
       " WordList(['in', 'the', 'night', 'The', 'base']),\n",
       " WordList(['the', 'night', 'The', 'base', 'of']),\n",
       " WordList(['night', 'The', 'base', 'of', 'this']),\n",
       " WordList(['The', 'base', 'of', 'this', 'concoction']),\n",
       " WordList(['base', 'of', 'this', 'concoction', 'is']),\n",
       " WordList(['of', 'this', 'concoction', 'is', 'the']),\n",
       " WordList(['this', 'concoction', 'is', 'the', 'brown']),\n",
       " WordList(['concoction', 'is', 'the', 'brown', 'powder']),\n",
       " WordList(['is', 'the', 'brown', 'powder', 'of']),\n",
       " WordList(['the', 'brown', 'powder', 'of', 'a']),\n",
       " WordList(['brown', 'powder', 'of', 'a', 'cinnamon']),\n",
       " WordList(['powder', 'of', 'a', 'cinnamon', 'stalk']),\n",
       " WordList(['of', 'a', 'cinnamon', 'stalk', 'To']),\n",
       " WordList(['a', 'cinnamon', 'stalk', 'To', 'it']),\n",
       " WordList(['cinnamon', 'stalk', 'To', 'it', 'add']),\n",
       " WordList(['stalk', 'To', 'it', 'add', 'a']),\n",
       " WordList(['To', 'it', 'add', 'a', 'handful']),\n",
       " WordList(['it', 'add', 'a', 'handful', 'of']),\n",
       " WordList(['add', 'a', 'handful', 'of', 'rosemary']),\n",
       " WordList(['a', 'handful', 'of', 'rosemary', 'leaves']),\n",
       " WordList(['handful', 'of', 'rosemary', 'leaves', 'these']),\n",
       " WordList(['of', 'rosemary', 'leaves', 'these', 'make']),\n",
       " WordList(['rosemary', 'leaves', 'these', 'make', 'the']),\n",
       " WordList(['leaves', 'these', 'make', 'the', 'mind']),\n",
       " WordList(['these', 'make', 'the', 'mind', 'more']),\n",
       " WordList(['make', 'the', 'mind', 'more', 'attentive']),\n",
       " WordList(['the', 'mind', 'more', 'attentive', 'Add']),\n",
       " WordList(['mind', 'more', 'attentive', 'Add', 'shreds']),\n",
       " WordList(['more', 'attentive', 'Add', 'shreds', 'of']),\n",
       " WordList(['attentive', 'Add', 'shreds', 'of', 'humidified']),\n",
       " WordList(['Add', 'shreds', 'of', 'humidified', 'phosphorescent']),\n",
       " WordList(['shreds', 'of', 'humidified', 'phosphorescent', 'moss']),\n",
       " WordList(['of', 'humidified', 'phosphorescent', 'moss', 'to']),\n",
       " WordList(['humidified', 'phosphorescent', 'moss', 'to', 'the']),\n",
       " WordList(['phosphorescent', 'moss', 'to', 'the', 'dry']),\n",
       " WordList(['moss', 'to', 'the', 'dry', 'concoction']),\n",
       " WordList(['to', 'the', 'dry', 'concoction', 'and']),\n",
       " WordList(['the', 'dry', 'concoction', 'and', 'carefully']),\n",
       " WordList(['dry', 'concoction', 'and', 'carefully', 'mix']),\n",
       " WordList(['concoction', 'and', 'carefully', 'mix', 'them']),\n",
       " WordList(['and', 'carefully', 'mix', 'them', 'together']),\n",
       " WordList(['carefully', 'mix', 'them', 'together', 'until']),\n",
       " WordList(['mix', 'them', 'together', 'until', 'you']),\n",
       " WordList(['them', 'together', 'until', 'you', 'have']),\n",
       " WordList(['together', 'until', 'you', 'have', 'a']),\n",
       " WordList(['until', 'you', 'have', 'a', 'phosphorescent']),\n",
       " WordList(['you', 'have', 'a', 'phosphorescent', 'liquid']),\n",
       " WordList(['have', 'a', 'phosphorescent', 'liquid', 'which']),\n",
       " WordList(['a', 'phosphorescent', 'liquid', 'which', 'emanates']),\n",
       " WordList(['phosphorescent', 'liquid', 'which', 'emanates', 'a']),\n",
       " WordList(['liquid', 'which', 'emanates', 'a', 'pale']),\n",
       " WordList(['which', 'emanates', 'a', 'pale', 'light']),\n",
       " WordList(['emanates', 'a', 'pale', 'light', 'When']),\n",
       " WordList(['a', 'pale', 'light', 'When', 'consuming']),\n",
       " WordList(['pale', 'light', 'When', 'consuming', 'it']),\n",
       " WordList(['light', 'When', 'consuming', 'it', 'you']),\n",
       " WordList(['When', 'consuming', 'it', 'you', 'will']),\n",
       " WordList(['consuming', 'it', 'you', 'will', 'be']),\n",
       " WordList(['it', 'you', 'will', 'be', 'able']),\n",
       " WordList(['you', 'will', 'be', 'able', 'to']),\n",
       " WordList(['will', 'be', 'able', 'to', 'perceive']),\n",
       " WordList(['be', 'able', 'to', 'perceive', 'your']),\n",
       " WordList(['able', 'to', 'perceive', 'your', 'environment']),\n",
       " WordList(['to', 'perceive', 'your', 'environment', 'more']),\n",
       " WordList(['perceive', 'your', 'environment', 'more', 'effectively']),\n",
       " WordList(['your', 'environment', 'more', 'effectively', 'especially']),\n",
       " WordList(['environment', 'more', 'effectively', 'especially', 'in']),\n",
       " WordList(['more', 'effectively', 'especially', 'in', 'the']),\n",
       " WordList(['effectively', 'especially', 'in', 'the', 'darkness']),\n",
       " WordList(['especially', 'in', 'the', 'darkness', 'thanks']),\n",
       " WordList(['in', 'the', 'darkness', 'thanks', 'to']),\n",
       " WordList(['the', 'darkness', 'thanks', 'to', 'the']),\n",
       " WordList(['darkness', 'thanks', 'to', 'the', 'moss']),\n",
       " WordList(['thanks', 'to', 'the', 'moss', 'A']),\n",
       " WordList(['to', 'the', 'moss', 'A', 'side']),\n",
       " WordList(['the', 'moss', 'A', 'side', 'effect']),\n",
       " WordList(['moss', 'A', 'side', 'effect', 'of']),\n",
       " WordList(['A', 'side', 'effect', 'of', 'its']),\n",
       " WordList(['side', 'effect', 'of', 'its', 'activity']),\n",
       " WordList(['effect', 'of', 'its', 'activity', 'is']),\n",
       " WordList(['of', 'its', 'activity', 'is', 'to']),\n",
       " WordList(['its', 'activity', 'is', 'to', 'weaken']),\n",
       " WordList(['activity', 'is', 'to', 'weaken', 'you']),\n",
       " WordList(['is', 'to', 'weaken', 'you', 'for']),\n",
       " WordList(['to', 'weaken', 'you', 'for', 'a']),\n",
       " WordList(['weaken', 'you', 'for', 'a', 'while']),\n",
       " WordList(['you', 'for', 'a', 'while', 'as']),\n",
       " WordList(['for', 'a', 'while', 'as', 'it']),\n",
       " WordList(['a', 'while', 'as', 'it', 'draws']),\n",
       " WordList(['while', 'as', 'it', 'draws', 'energy']),\n",
       " WordList(['as', 'it', 'draws', 'energy', 'from']),\n",
       " WordList(['it', 'draws', 'energy', 'from', 'your']),\n",
       " WordList(['draws', 'energy', 'from', 'your', 'body']),\n",
       " WordList(['energy', 'from', 'your', 'body', 'The']),\n",
       " WordList(['from', 'your', 'body', 'The', 'effects']),\n",
       " WordList(['your', 'body', 'The', 'effects', 'can']),\n",
       " WordList(['body', 'The', 'effects', 'can', 'be']),\n",
       " WordList(['The', 'effects', 'can', 'be', 'felt']),\n",
       " WordList(['effects', 'can', 'be', 'felt', 'for']),\n",
       " WordList(['can', 'be', 'felt', 'for', 'several']),\n",
       " WordList(['be', 'felt', 'for', 'several', 'days']),\n",
       " WordList(['felt', 'for', 'several', 'days', 'As']),\n",
       " WordList(['for', 'several', 'days', 'As', 'you']),\n",
       " WordList(['several', 'days', 'As', 'you', 'finish']),\n",
       " WordList(['days', 'As', 'you', 'finish', 'reading']),\n",
       " WordList(['As', 'you', 'finish', 'reading', 'it']),\n",
       " WordList(['you', 'finish', 'reading', 'it', 'a']),\n",
       " WordList(['finish', 'reading', 'it', 'a', 'runic']),\n",
       " WordList(['reading', 'it', 'a', 'runic', 'book']),\n",
       " WordList(['it', 'a', 'runic', 'book', 'crumbles']),\n",
       " WordList(['a', 'runic', 'book', 'crumbles', 'to']),\n",
       " WordList(['runic', 'book', 'crumbles', 'to', 'dust'])]"
      ]
     },
     "execution_count": 38,
     "metadata": {},
     "output_type": "execute_result"
    }
   ],
   "source": [
    "blob.ngrams(n=5)"
   ]
  },
  {
   "cell_type": "code",
   "execution_count": 39,
   "metadata": {},
   "outputs": [
    {
     "name": "stdout",
     "output_type": "stream",
     "text": [
      "['perceive', 'your', 'environment', 'more', 'effectively']\n"
     ]
    }
   ],
   "source": [
    "for l in blob.ngrams(n=5):\n",
    "    l = str(l)\n",
    "    l = TextBlob(l)\n",
    "    if l.polarity>0.5:\n",
    "        print(l)"
   ]
  }
 ],
 "metadata": {
  "kernelspec": {
   "display_name": "Python 3",
   "language": "python",
   "name": "python3"
  },
  "language_info": {
   "codemirror_mode": {
    "name": "ipython",
    "version": 3
   },
   "file_extension": ".py",
   "mimetype": "text/x-python",
   "name": "python",
   "nbconvert_exporter": "python",
   "pygments_lexer": "ipython3",
   "version": "3.6.0"
  }
 },
 "nbformat": 4,
 "nbformat_minor": 2
}
