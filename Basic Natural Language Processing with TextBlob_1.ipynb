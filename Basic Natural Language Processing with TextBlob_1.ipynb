{
 "cells": [
  {
   "cell_type": "code",
   "execution_count": 32,
   "metadata": {},
   "outputs": [],
   "source": [
    "# This tutorial is from https://www.youtube.com/playlist?list=PL_92WMXSLe_-RkWW5zAQZ-gMdVqZ7T-_F\n",
    "################################################    1    #######################################################"
   ]
  },
  {
   "cell_type": "code",
   "execution_count": 11,
   "metadata": {},
   "outputs": [],
   "source": [
    "import textblob"
   ]
  },
  {
   "cell_type": "code",
   "execution_count": 4,
   "metadata": {},
   "outputs": [],
   "source": [
    "blob = textblob.TextBlob('Its a lovely spring day here in Korea')"
   ]
  },
  {
   "cell_type": "code",
   "execution_count": 10,
   "metadata": {},
   "outputs": [
    {
     "name": "stdout",
     "output_type": "stream",
     "text": [
      "['Its', 'a', 'lovely', 'spring', 'day', 'here', 'in', 'Korea']\n",
      "[Sentence(\"Its a lovely spring day here in Korea\")]\n"
     ]
    }
   ],
   "source": [
    "print(blob.words)\n",
    "print(blob.sentences)"
   ]
  },
  {
   "cell_type": "code",
   "execution_count": 13,
   "metadata": {},
   "outputs": [],
   "source": [
    "################################################    2    #######################################################"
   ]
  },
  {
   "cell_type": "code",
   "execution_count": 35,
   "metadata": {},
   "outputs": [
    {
     "name": "stdout",
     "output_type": "stream",
     "text": [
      "In the wild, strange plants with peculiar properties can be found. One of these\n",
      "plants is the phosphorescent moss. The moss covers the walls inside some of\n",
      "Arda's humid caves. It is believed that the light emitted from the moss comes\n",
      "from a fungus, which lives in symbiosis with the moss. This moss can be used to\n",
      "prepare a draught which gives an enhanced ability to see in the night.\n",
      "\n",
      "The base of this concoction is the brown powder of a cinnamon stalk. To it, add\n",
      "a handful of rosemary leaves, these make the mind more attentive.\n",
      "\n",
      "Add shreds of humidified phosphorescent moss to the dry concoction, and\n",
      "carefully mix them together, until you have a phosphorescent liquid which\n",
      "emanates a pale light.\n",
      "\n",
      "When consuming it, you will be able to perceive your environment more\n",
      "effectively, especially in the darkness, thanks to the moss. A side effect of\n",
      "its activity is to weaken you for a while, as it draws energy from your body.\n",
      "The effects can be felt for several days.\n",
      "As you finish reading it, a runic book crumbles to dust.\n"
     ]
    }
   ],
   "source": [
    "text = open('book.txt')\n",
    "text = text.read()\n",
    "text = text\n",
    "print(text)"
   ]
  },
  {
   "cell_type": "code",
   "execution_count": 37,
   "metadata": {},
   "outputs": [
    {
     "data": {
      "text/plain": [
       "textblob.blob.WordList"
      ]
     },
     "execution_count": 37,
     "metadata": {},
     "output_type": "execute_result"
    }
   ],
   "source": [
    "blob = TextBlob(text)\n",
    "type(blob.words)"
   ]
  },
  {
   "cell_type": "code",
   "execution_count": 31,
   "metadata": {},
   "outputs": [
    {
     "name": "stdout",
     "output_type": "stream",
     "text": [
      "In the wild strange plants with peculiar properties can be found One of these plants is the phosphorescent moss The moss covers the walls inside some of Arda 's humid caves It is believed that the ['In', 'the', 'wild', 'strange', 'plants', 'with', 'peculiar', 'properties', 'can', 'be', 'found', 'One', 'of', 'these', 'plants', 'is', 'the', 'phosphorescent', 'moss', 'The', 'moss', 'covers', 'the', 'walls', 'inside', 'some', 'of', 'Arda', \"'s\", 'humid', 'caves', 'It', 'is', 'believed', 'that', 'the']\n"
     ]
    }
   ],
   "source": [
    "for word in blob.words:\n",
    "    print(word, end=' ')\n",
    "print(list(blob.words))"
   ]
  },
  {
   "cell_type": "code",
   "execution_count": 33,
   "metadata": {},
   "outputs": [],
   "source": [
    "################################################    3    #######################################################"
   ]
  },
  {
   "cell_type": "code",
   "execution_count": 39,
   "metadata": {},
   "outputs": [
    {
     "data": {
      "text/plain": [
       "[Sentence(\"In the wild, strange plants with peculiar properties can be found.\"),\n",
       " Sentence(\"One of these\n",
       " plants is the phosphorescent moss.\"),\n",
       " Sentence(\"The moss covers the walls inside some of\n",
       " Arda's humid caves.\"),\n",
       " Sentence(\"It is believed that the light emitted from the moss comes\n",
       " from a fungus, which lives in symbiosis with the moss.\"),\n",
       " Sentence(\"This moss can be used to\n",
       " prepare a draught which gives an enhanced ability to see in the night.\"),\n",
       " Sentence(\"The base of this concoction is the brown powder of a cinnamon stalk.\"),\n",
       " Sentence(\"To it, add\n",
       " a handful of rosemary leaves, these make the mind more attentive.\"),\n",
       " Sentence(\"Add shreds of humidified phosphorescent moss to the dry concoction, and\n",
       " carefully mix them together, until you have a phosphorescent liquid which\n",
       " emanates a pale light.\"),\n",
       " Sentence(\"When consuming it, you will be able to perceive your environment more\n",
       " effectively, especially in the darkness, thanks to the moss.\"),\n",
       " Sentence(\"A side effect of\n",
       " its activity is to weaken you for a while, as it draws energy from your body.\"),\n",
       " Sentence(\"The effects can be felt for several days.\"),\n",
       " Sentence(\"As you finish reading it, a runic book crumbles to dust.\")]"
      ]
     },
     "execution_count": 39,
     "metadata": {},
     "output_type": "execute_result"
    }
   ],
   "source": [
    "blob.sentences"
   ]
  },
  {
   "cell_type": "code",
   "execution_count": 42,
   "metadata": {},
   "outputs": [
    {
     "name": "stdout",
     "output_type": "stream",
     "text": [
      "In the wild, strange plants with peculiar properties can be found.\n",
      "One of these\n",
      "plants is the phosphorescent moss.\n",
      "The moss covers the walls inside some of\n",
      "Arda's humid caves.\n",
      "It is believed that the light emitted from the moss comes\n",
      "from a fungus, which lives in symbiosis with the moss.\n",
      "This moss can be used to\n",
      "prepare a draught which gives an enhanced ability to see in the night.\n",
      "The base of this concoction is the brown powder of a cinnamon stalk.\n",
      "To it, add\n",
      "a handful of rosemary leaves, these make the mind more attentive.\n",
      "Add shreds of humidified phosphorescent moss to the dry concoction, and\n",
      "carefully mix them together, until you have a phosphorescent liquid which\n",
      "emanates a pale light.\n",
      "When consuming it, you will be able to perceive your environment more\n",
      "effectively, especially in the darkness, thanks to the moss.\n",
      "A side effect of\n",
      "its activity is to weaken you for a while, as it draws energy from your body.\n",
      "The effects can be felt for several days.\n",
      "As you finish reading it, a runic book crumbles to dust.\n"
     ]
    }
   ],
   "source": [
    "for s in blob.sentences:\n",
    "    print(s)"
   ]
  },
  {
   "cell_type": "code",
   "execution_count": 45,
   "metadata": {},
   "outputs": [
    {
     "name": "stdout",
     "output_type": "stream",
     "text": [
      "['strange plants', 'peculiar properties', 'phosphorescent moss', 'arda', \"'s humid caves\", 'brown powder', 'cinnamon stalk', 'rosemary leaves', 'phosphorescent moss', 'dry concoction', 'phosphorescent liquid', 'side effect', 'draws energy', 'finish reading', 'runic book crumbles']\n"
     ]
    }
   ],
   "source": [
    "################################################    4    #######################################################\n",
    "print(blob.noun_phrases)"
   ]
  },
  {
   "cell_type": "code",
   "execution_count": null,
   "metadata": {},
   "outputs": [],
   "source": []
  }
 ],
 "metadata": {
  "kernelspec": {
   "display_name": "Python 3",
   "language": "python",
   "name": "python3"
  },
  "language_info": {
   "codemirror_mode": {
    "name": "ipython",
    "version": 3
   },
   "file_extension": ".py",
   "mimetype": "text/x-python",
   "name": "python",
   "nbconvert_exporter": "python",
   "pygments_lexer": "ipython3",
   "version": "3.6.0"
  }
 },
 "nbformat": 4,
 "nbformat_minor": 2
}
